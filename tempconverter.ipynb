{
 "cells": [
  {
   "cell_type": "code",
   "execution_count": null,
   "metadata": {},
   "outputs": [],
   "source": [
    "def temperature_converter():\n",
    "    try:\n",
    "        temperature = float(input(\"Enter the temperature: \"))\n",
    "        choice = input(\"Convert to (F)ahrenheit or (C)elsius? \").strip().lower()\n",
    "\n",
    "        if choice == 'f':\n",
    "            print(f\"{temperature}°C is {(temperature * 9/5) + 32:.2f}°F\")\n",
    "        elif choice == 'c':\n",
    "            print(f\"{temperature}°F is {(temperature - 32) * 5/9:.2f}°C\")\n",
    "        else:\n",
    "            print(\"Invalid option. Please enter 'F' or 'C'.\")\n",
    "    \n",
    "    except ValueError:\n",
    "        print(\"Invalid input. Please enter a number.\")\n",
    "\n",
    "temperature_converter()\n",
    "\n"
   ]
  }
 ],
 "metadata": {
  "kernelspec": {
   "display_name": "Python 3",
   "language": "python",
   "name": "python3"
  },
  "language_info": {
   "codemirror_mode": {
    "name": "ipython",
    "version": 3
   },
   "file_extension": ".py",
   "mimetype": "text/x-python",
   "name": "python",
   "nbconvert_exporter": "python",
   "pygments_lexer": "ipython3",
   "version": "3.12.2"
  }
 },
 "nbformat": 4,
 "nbformat_minor": 2
}
