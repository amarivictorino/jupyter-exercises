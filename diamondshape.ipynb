{
 "cells": [
  {
   "cell_type": "code",
   "execution_count": null,
   "metadata": {},
   "outputs": [],
   "source": [
    "def print_diamond(n):\n",
    "    if n % 2 == 0:\n",
    "        return \"Please provide an odd integer.\"\n",
    "    \n",
    "    for i in range(n):\n",
    "        stars = \"*\" * (2 * (n//2 - abs(n//2 - i)) + 1)\n",
    "        print(stars.center(n))\n",
    "\n",
    "n = int(input(\"Enter an odd integer: \"))\n",
    "result = print_diamond(n)\n",
    "\n",
    "if result:\n",
    "    print(result)"
   ]
  }
 ],
 "metadata": {
  "kernelspec": {
   "display_name": "Python 3",
   "language": "python",
   "name": "python3"
  },
  "language_info": {
   "codemirror_mode": {
    "name": "ipython",
    "version": 3
   },
   "file_extension": ".py",
   "mimetype": "text/x-python",
   "name": "python",
   "nbconvert_exporter": "python",
   "pygments_lexer": "ipython3",
   "version": "3.12.2"
  }
 },
 "nbformat": 4,
 "nbformat_minor": 2
}
