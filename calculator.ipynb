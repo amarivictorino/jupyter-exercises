{
 "cells": [
  {
   "cell_type": "code",
   "execution_count": 4,
   "metadata": {},
   "outputs": [
    {
     "name": "stdout",
     "output_type": "stream",
     "text": [
      "Resistance (R) = 13.75 ohms\n"
     ]
    }
   ],
   "source": [
    "def ohms_law_calculator():\n",
    "    choice = input(\"What would you like to calculate? (V for Voltage, I for Current, R for Resistance): \").upper()\n",
    "\n",
    "    try:\n",
    "        if choice == 'V':\n",
    "            I = float(input(\"Enter the current (I) in amperes: \"))\n",
    "            R = float(input(\"Enter the resistance (R) in ohms: \"))\n",
    "            print(f\"Voltage (V) = {I * R} volts\")\n",
    "\n",
    "        elif choice == 'I':\n",
    "            V = float(input(\"Enter the voltage (V) in volts: \"))\n",
    "            R = float(input(\"Enter the resistance (R) in ohms: \"))\n",
    "            if R == 0:\n",
    "                print(\"Error: Resistance cannot be zero.\")\n",
    "            else:\n",
    "                print(f\"Current (I) = {V / R} amperes\")\n",
    "\n",
    "        elif choice == 'R':\n",
    "            V = float(input(\"Enter the voltage (V) in volts: \"))\n",
    "            I = float(input(\"Enter the current (I) in amperes: \"))\n",
    "            if I == 0:\n",
    "                print(\"Error: Current cannot be zero.\")\n",
    "            else:\n",
    "                print(f\"Resistance (R) = {V / I} ohms\")\n",
    "\n",
    "        else:\n",
    "            print(\"Invalid choice. Please enter V, I, or R.\")\n",
    "\n",
    "    except ValueError:\n",
    "        print(\"Invalid input. Please enter valid numbers.\")\n",
    "\n",
    "ohms_law_calculator()\n",
    "                "
   ]
  }
 ],
 "metadata": {
  "kernelspec": {
   "display_name": "Python 3",
   "language": "python",
   "name": "python3"
  },
  "language_info": {
   "codemirror_mode": {
    "name": "ipython",
    "version": 3
   },
   "file_extension": ".py",
   "mimetype": "text/x-python",
   "name": "python",
   "nbconvert_exporter": "python",
   "pygments_lexer": "ipython3",
   "version": "3.12.2"
  }
 },
 "nbformat": 4,
 "nbformat_minor": 2
}
